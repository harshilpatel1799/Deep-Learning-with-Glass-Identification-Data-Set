{
 "cells": [
  {
   "cell_type": "markdown",
   "metadata": {
    "colab_type": "text",
    "id": "QQG0a0o3vcZZ"
   },
   "source": [
    "#  Objectives:\n",
    "\n",
    "\n",
    "1.   Downnloading the dataset to the notebook and performing inspections on the dataset\n",
    "2.   Clarifying the target coulmn and predictors for the classification problem\n",
    "3.   Normalizing the predictors and binarizing the target column\n",
    "4.   Holding part of the dataset for testing the prediction capabilities of the model\n",
    "5.   Building the deep learning model and testing the prediction capabilities\n",
    "\n"
   ]
  },
  {
   "cell_type": "markdown",
   "metadata": {
    "colab_type": "text",
    "id": "lLBCSo2upcUh"
   },
   "source": [
    "## a) Importing necessary packages and functions"
   ]
  },
  {
   "cell_type": "code",
   "execution_count": 1,
   "metadata": {
    "colab": {
     "base_uri": "https://localhost:8080/",
     "height": 175
    },
    "colab_type": "code",
    "id": "FH1YW1s3pcUj",
    "outputId": "8c3b761d-0df4-463c-996c-b65eb0cf6f07"
   },
   "outputs": [],
   "source": [
    "#!pip install --upgrade pip \n",
    "#!pip install --upgrade tensorflow \n",
    "#!pip install matplotlib \n",
    "#!pip install sklearn \n",
    "import pandas as pd\n",
    "import numpy as np\n",
    "import sklearn\n",
    "import tensorflow \n",
    "import tensorflow.keras \n",
    "import matplotlib.pyplot as plt"
   ]
  },
  {
   "cell_type": "code",
   "execution_count": 2,
   "metadata": {
    "colab": {},
    "colab_type": "code",
    "id": "B0ozBOympcU2"
   },
   "outputs": [],
   "source": [
    "from sklearn.model_selection import train_test_split\n",
    "from tensorflow.keras.models import Sequential\n",
    "from tensorflow.keras.layers import Dense\n",
    "from tensorflow.keras.layers import Dropout\n",
    "from tensorflow.keras.utils import to_categorical\n",
    "from tensorflow.keras.optimizers import Adam"
   ]
  },
  {
   "cell_type": "markdown",
   "metadata": {
    "colab_type": "text",
    "id": "uU5gWqmZpcU6"
   },
   "source": [
    "## b) Creating the Dataframe"
   ]
  },
  {
   "cell_type": "markdown",
   "metadata": {
    "colab_type": "text",
    "id": "ajJcVu01s-8r"
   },
   "source": [
    "### Dataset\n",
    "#### The dataset is provided by University of California at Irvine Machine Learning Repository available at:\n",
    "[UCI Machine Learning Repository](https://https://archive.ics.uci.edu/ml/datasets.php)\n",
    "#### For this example, we use the glass dataset created by B. German.The purpose of this dataset is classifying different types of glass based  on the level od certain components, such as Potassium, Aluminium, etc.\n"
   ]
  },
  {
   "cell_type": "code",
   "execution_count": 3,
   "metadata": {
    "colab": {
     "base_uri": "https://localhost:8080/",
     "height": 225
    },
    "colab_type": "code",
    "id": "7f1JiZKQpcU8",
    "outputId": "26bce1d0-433e-477e-e181-6b40b2005474"
   },
   "outputs": [
    {
     "data": {
      "text/html": [
       "<div>\n",
       "<style scoped>\n",
       "    .dataframe tbody tr th:only-of-type {\n",
       "        vertical-align: middle;\n",
       "    }\n",
       "\n",
       "    .dataframe tbody tr th {\n",
       "        vertical-align: top;\n",
       "    }\n",
       "\n",
       "    .dataframe thead th {\n",
       "        text-align: right;\n",
       "    }\n",
       "</style>\n",
       "<table border=\"1\" class=\"dataframe\">\n",
       "  <thead>\n",
       "    <tr style=\"text-align: right;\">\n",
       "      <th></th>\n",
       "      <th>refractive index</th>\n",
       "      <th>Sodium</th>\n",
       "      <th>Magnesium</th>\n",
       "      <th>Aluminum</th>\n",
       "      <th>Silicon</th>\n",
       "      <th>Potassium</th>\n",
       "      <th>Calcium</th>\n",
       "      <th>Barium</th>\n",
       "      <th>Iron</th>\n",
       "      <th>Type of glass</th>\n",
       "    </tr>\n",
       "    <tr>\n",
       "      <th>Id number</th>\n",
       "      <th></th>\n",
       "      <th></th>\n",
       "      <th></th>\n",
       "      <th></th>\n",
       "      <th></th>\n",
       "      <th></th>\n",
       "      <th></th>\n",
       "      <th></th>\n",
       "      <th></th>\n",
       "      <th></th>\n",
       "    </tr>\n",
       "  </thead>\n",
       "  <tbody>\n",
       "    <tr>\n",
       "      <td>1</td>\n",
       "      <td>1.52101</td>\n",
       "      <td>13.64</td>\n",
       "      <td>4.49</td>\n",
       "      <td>1.10</td>\n",
       "      <td>71.78</td>\n",
       "      <td>0.06</td>\n",
       "      <td>8.75</td>\n",
       "      <td>0.0</td>\n",
       "      <td>0.0</td>\n",
       "      <td>1</td>\n",
       "    </tr>\n",
       "    <tr>\n",
       "      <td>2</td>\n",
       "      <td>1.51761</td>\n",
       "      <td>13.89</td>\n",
       "      <td>3.60</td>\n",
       "      <td>1.36</td>\n",
       "      <td>72.73</td>\n",
       "      <td>0.48</td>\n",
       "      <td>7.83</td>\n",
       "      <td>0.0</td>\n",
       "      <td>0.0</td>\n",
       "      <td>1</td>\n",
       "    </tr>\n",
       "    <tr>\n",
       "      <td>3</td>\n",
       "      <td>1.51618</td>\n",
       "      <td>13.53</td>\n",
       "      <td>3.55</td>\n",
       "      <td>1.54</td>\n",
       "      <td>72.99</td>\n",
       "      <td>0.39</td>\n",
       "      <td>7.78</td>\n",
       "      <td>0.0</td>\n",
       "      <td>0.0</td>\n",
       "      <td>1</td>\n",
       "    </tr>\n",
       "    <tr>\n",
       "      <td>4</td>\n",
       "      <td>1.51766</td>\n",
       "      <td>13.21</td>\n",
       "      <td>3.69</td>\n",
       "      <td>1.29</td>\n",
       "      <td>72.61</td>\n",
       "      <td>0.57</td>\n",
       "      <td>8.22</td>\n",
       "      <td>0.0</td>\n",
       "      <td>0.0</td>\n",
       "      <td>1</td>\n",
       "    </tr>\n",
       "    <tr>\n",
       "      <td>5</td>\n",
       "      <td>1.51742</td>\n",
       "      <td>13.27</td>\n",
       "      <td>3.62</td>\n",
       "      <td>1.24</td>\n",
       "      <td>73.08</td>\n",
       "      <td>0.55</td>\n",
       "      <td>8.07</td>\n",
       "      <td>0.0</td>\n",
       "      <td>0.0</td>\n",
       "      <td>1</td>\n",
       "    </tr>\n",
       "  </tbody>\n",
       "</table>\n",
       "</div>"
      ],
      "text/plain": [
       "           refractive index  Sodium  Magnesium  Aluminum  Silicon  Potassium  \\\n",
       "Id number                                                                      \n",
       "1                   1.52101   13.64       4.49      1.10    71.78       0.06   \n",
       "2                   1.51761   13.89       3.60      1.36    72.73       0.48   \n",
       "3                   1.51618   13.53       3.55      1.54    72.99       0.39   \n",
       "4                   1.51766   13.21       3.69      1.29    72.61       0.57   \n",
       "5                   1.51742   13.27       3.62      1.24    73.08       0.55   \n",
       "\n",
       "           Calcium  Barium  Iron  Type of glass  \n",
       "Id number                                        \n",
       "1             8.75     0.0   0.0              1  \n",
       "2             7.83     0.0   0.0              1  \n",
       "3             7.78     0.0   0.0              1  \n",
       "4             8.22     0.0   0.0              1  \n",
       "5             8.07     0.0   0.0              1  "
      ]
     },
     "execution_count": 3,
     "metadata": {},
     "output_type": "execute_result"
    }
   ],
   "source": [
    "# We clarify the download link and headers of the glass dataset\n",
    "df = pd.read_csv('https://archive.ics.uci.edu/ml/machine-learning-databases/glass/glass.data', names = ['Id number', 'refractive index',\n",
    "                                                                                                       'Sodium', 'Magnesium', \n",
    "                                                                                                       'Aluminum', 'Silicon',\n",
    "                                                                                                       'Potassium', 'Calcium', \n",
    "                                                                                                       'Barium', 'Iron', \n",
    "                                                                                                       'Type of glass'], index_col = 'Id number')\n",
    "\n",
    "# Lets check the first 5 rows of the dataset\n",
    "df.head()\n",
    "\n"
   ]
  },
  {
   "cell_type": "markdown",
   "metadata": {
    "colab_type": "text",
    "id": "SvQvXD-WYC6Y"
   },
   "source": [
    "### Let's check some statistics of the data"
   ]
  },
  {
   "cell_type": "code",
   "execution_count": 4,
   "metadata": {
    "colab": {
     "base_uri": "https://localhost:8080/",
     "height": 284
    },
    "colab_type": "code",
    "id": "3U0Y7MEzX0nJ",
    "outputId": "5ea23d12-2976-4799-d375-02392dead51a"
   },
   "outputs": [
    {
     "data": {
      "text/html": [
       "<div>\n",
       "<style scoped>\n",
       "    .dataframe tbody tr th:only-of-type {\n",
       "        vertical-align: middle;\n",
       "    }\n",
       "\n",
       "    .dataframe tbody tr th {\n",
       "        vertical-align: top;\n",
       "    }\n",
       "\n",
       "    .dataframe thead th {\n",
       "        text-align: right;\n",
       "    }\n",
       "</style>\n",
       "<table border=\"1\" class=\"dataframe\">\n",
       "  <thead>\n",
       "    <tr style=\"text-align: right;\">\n",
       "      <th></th>\n",
       "      <th>refractive index</th>\n",
       "      <th>Sodium</th>\n",
       "      <th>Magnesium</th>\n",
       "      <th>Aluminum</th>\n",
       "      <th>Silicon</th>\n",
       "      <th>Potassium</th>\n",
       "      <th>Calcium</th>\n",
       "      <th>Barium</th>\n",
       "      <th>Iron</th>\n",
       "      <th>Type of glass</th>\n",
       "    </tr>\n",
       "  </thead>\n",
       "  <tbody>\n",
       "    <tr>\n",
       "      <td>count</td>\n",
       "      <td>214.000000</td>\n",
       "      <td>214.000000</td>\n",
       "      <td>214.000000</td>\n",
       "      <td>214.000000</td>\n",
       "      <td>214.000000</td>\n",
       "      <td>214.000000</td>\n",
       "      <td>214.000000</td>\n",
       "      <td>214.000000</td>\n",
       "      <td>214.000000</td>\n",
       "      <td>214.000000</td>\n",
       "    </tr>\n",
       "    <tr>\n",
       "      <td>mean</td>\n",
       "      <td>1.518365</td>\n",
       "      <td>13.407850</td>\n",
       "      <td>2.684533</td>\n",
       "      <td>1.444907</td>\n",
       "      <td>72.650935</td>\n",
       "      <td>0.497056</td>\n",
       "      <td>8.956963</td>\n",
       "      <td>0.175047</td>\n",
       "      <td>0.057009</td>\n",
       "      <td>2.780374</td>\n",
       "    </tr>\n",
       "    <tr>\n",
       "      <td>std</td>\n",
       "      <td>0.003037</td>\n",
       "      <td>0.816604</td>\n",
       "      <td>1.442408</td>\n",
       "      <td>0.499270</td>\n",
       "      <td>0.774546</td>\n",
       "      <td>0.652192</td>\n",
       "      <td>1.423153</td>\n",
       "      <td>0.497219</td>\n",
       "      <td>0.097439</td>\n",
       "      <td>2.103739</td>\n",
       "    </tr>\n",
       "    <tr>\n",
       "      <td>min</td>\n",
       "      <td>1.511150</td>\n",
       "      <td>10.730000</td>\n",
       "      <td>0.000000</td>\n",
       "      <td>0.290000</td>\n",
       "      <td>69.810000</td>\n",
       "      <td>0.000000</td>\n",
       "      <td>5.430000</td>\n",
       "      <td>0.000000</td>\n",
       "      <td>0.000000</td>\n",
       "      <td>1.000000</td>\n",
       "    </tr>\n",
       "    <tr>\n",
       "      <td>25%</td>\n",
       "      <td>1.516523</td>\n",
       "      <td>12.907500</td>\n",
       "      <td>2.115000</td>\n",
       "      <td>1.190000</td>\n",
       "      <td>72.280000</td>\n",
       "      <td>0.122500</td>\n",
       "      <td>8.240000</td>\n",
       "      <td>0.000000</td>\n",
       "      <td>0.000000</td>\n",
       "      <td>1.000000</td>\n",
       "    </tr>\n",
       "    <tr>\n",
       "      <td>50%</td>\n",
       "      <td>1.517680</td>\n",
       "      <td>13.300000</td>\n",
       "      <td>3.480000</td>\n",
       "      <td>1.360000</td>\n",
       "      <td>72.790000</td>\n",
       "      <td>0.555000</td>\n",
       "      <td>8.600000</td>\n",
       "      <td>0.000000</td>\n",
       "      <td>0.000000</td>\n",
       "      <td>2.000000</td>\n",
       "    </tr>\n",
       "    <tr>\n",
       "      <td>75%</td>\n",
       "      <td>1.519157</td>\n",
       "      <td>13.825000</td>\n",
       "      <td>3.600000</td>\n",
       "      <td>1.630000</td>\n",
       "      <td>73.087500</td>\n",
       "      <td>0.610000</td>\n",
       "      <td>9.172500</td>\n",
       "      <td>0.000000</td>\n",
       "      <td>0.100000</td>\n",
       "      <td>3.000000</td>\n",
       "    </tr>\n",
       "    <tr>\n",
       "      <td>max</td>\n",
       "      <td>1.533930</td>\n",
       "      <td>17.380000</td>\n",
       "      <td>4.490000</td>\n",
       "      <td>3.500000</td>\n",
       "      <td>75.410000</td>\n",
       "      <td>6.210000</td>\n",
       "      <td>16.190000</td>\n",
       "      <td>3.150000</td>\n",
       "      <td>0.510000</td>\n",
       "      <td>7.000000</td>\n",
       "    </tr>\n",
       "  </tbody>\n",
       "</table>\n",
       "</div>"
      ],
      "text/plain": [
       "       refractive index      Sodium   Magnesium    Aluminum     Silicon  \\\n",
       "count        214.000000  214.000000  214.000000  214.000000  214.000000   \n",
       "mean           1.518365   13.407850    2.684533    1.444907   72.650935   \n",
       "std            0.003037    0.816604    1.442408    0.499270    0.774546   \n",
       "min            1.511150   10.730000    0.000000    0.290000   69.810000   \n",
       "25%            1.516523   12.907500    2.115000    1.190000   72.280000   \n",
       "50%            1.517680   13.300000    3.480000    1.360000   72.790000   \n",
       "75%            1.519157   13.825000    3.600000    1.630000   73.087500   \n",
       "max            1.533930   17.380000    4.490000    3.500000   75.410000   \n",
       "\n",
       "        Potassium     Calcium      Barium        Iron  Type of glass  \n",
       "count  214.000000  214.000000  214.000000  214.000000     214.000000  \n",
       "mean     0.497056    8.956963    0.175047    0.057009       2.780374  \n",
       "std      0.652192    1.423153    0.497219    0.097439       2.103739  \n",
       "min      0.000000    5.430000    0.000000    0.000000       1.000000  \n",
       "25%      0.122500    8.240000    0.000000    0.000000       1.000000  \n",
       "50%      0.555000    8.600000    0.000000    0.000000       2.000000  \n",
       "75%      0.610000    9.172500    0.000000    0.100000       3.000000  \n",
       "max      6.210000   16.190000    3.150000    0.510000       7.000000  "
      ]
     },
     "execution_count": 4,
     "metadata": {},
     "output_type": "execute_result"
    }
   ],
   "source": [
    "df.describe()"
   ]
  },
  {
   "cell_type": "markdown",
   "metadata": {
    "colab_type": "text",
    "id": "9Q5XvVqYYupe"
   },
   "source": [
    "### Let's check if the data types are correct"
   ]
  },
  {
   "cell_type": "code",
   "execution_count": 5,
   "metadata": {
    "colab": {
     "base_uri": "https://localhost:8080/",
     "height": 210
    },
    "colab_type": "code",
    "id": "QNHite4CXi0c",
    "outputId": "73c88cc9-0861-4226-df1e-c71e60d65e20"
   },
   "outputs": [
    {
     "data": {
      "text/plain": [
       "refractive index    float64\n",
       "Sodium              float64\n",
       "Magnesium           float64\n",
       "Aluminum            float64\n",
       "Silicon             float64\n",
       "Potassium           float64\n",
       "Calcium             float64\n",
       "Barium              float64\n",
       "Iron                float64\n",
       "Type of glass         int64\n",
       "dtype: object"
      ]
     },
     "execution_count": 5,
     "metadata": {},
     "output_type": "execute_result"
    }
   ],
   "source": [
    "df.dtypes"
   ]
  },
  {
   "cell_type": "code",
   "execution_count": 6,
   "metadata": {
    "colab": {
     "base_uri": "https://localhost:8080/",
     "height": 34
    },
    "colab_type": "code",
    "id": "mq-fJfOVfLs6",
    "outputId": "316cd67c-c44a-4eaf-f84d-0799b4827c65"
   },
   "outputs": [
    {
     "data": {
      "text/plain": [
       "(214, 10)"
      ]
     },
     "execution_count": 6,
     "metadata": {},
     "output_type": "execute_result"
    }
   ],
   "source": [
    "df.shape"
   ]
  },
  {
   "cell_type": "markdown",
   "metadata": {
    "colab_type": "text",
    "id": "gykfTKZtY5an"
   },
   "source": [
    "### Now, let's check if data has any missing point"
   ]
  },
  {
   "cell_type": "code",
   "execution_count": 7,
   "metadata": {
    "colab": {
     "base_uri": "https://localhost:8080/",
     "height": 225
    },
    "colab_type": "code",
    "id": "tpAAk5QCZAjE",
    "outputId": "48c5b00d-7d91-4c25-c73c-2eb4d0bd348e"
   },
   "outputs": [
    {
     "data": {
      "text/html": [
       "<div>\n",
       "<style scoped>\n",
       "    .dataframe tbody tr th:only-of-type {\n",
       "        vertical-align: middle;\n",
       "    }\n",
       "\n",
       "    .dataframe tbody tr th {\n",
       "        vertical-align: top;\n",
       "    }\n",
       "\n",
       "    .dataframe thead th {\n",
       "        text-align: right;\n",
       "    }\n",
       "</style>\n",
       "<table border=\"1\" class=\"dataframe\">\n",
       "  <thead>\n",
       "    <tr style=\"text-align: right;\">\n",
       "      <th></th>\n",
       "      <th>refractive index</th>\n",
       "      <th>Sodium</th>\n",
       "      <th>Magnesium</th>\n",
       "      <th>Aluminum</th>\n",
       "      <th>Silicon</th>\n",
       "      <th>Potassium</th>\n",
       "      <th>Calcium</th>\n",
       "      <th>Barium</th>\n",
       "      <th>Iron</th>\n",
       "      <th>Type of glass</th>\n",
       "    </tr>\n",
       "    <tr>\n",
       "      <th>Id number</th>\n",
       "      <th></th>\n",
       "      <th></th>\n",
       "      <th></th>\n",
       "      <th></th>\n",
       "      <th></th>\n",
       "      <th></th>\n",
       "      <th></th>\n",
       "      <th></th>\n",
       "      <th></th>\n",
       "      <th></th>\n",
       "    </tr>\n",
       "  </thead>\n",
       "  <tbody>\n",
       "    <tr>\n",
       "      <td>1</td>\n",
       "      <td>False</td>\n",
       "      <td>False</td>\n",
       "      <td>False</td>\n",
       "      <td>False</td>\n",
       "      <td>False</td>\n",
       "      <td>False</td>\n",
       "      <td>False</td>\n",
       "      <td>False</td>\n",
       "      <td>False</td>\n",
       "      <td>False</td>\n",
       "    </tr>\n",
       "    <tr>\n",
       "      <td>2</td>\n",
       "      <td>False</td>\n",
       "      <td>False</td>\n",
       "      <td>False</td>\n",
       "      <td>False</td>\n",
       "      <td>False</td>\n",
       "      <td>False</td>\n",
       "      <td>False</td>\n",
       "      <td>False</td>\n",
       "      <td>False</td>\n",
       "      <td>False</td>\n",
       "    </tr>\n",
       "    <tr>\n",
       "      <td>3</td>\n",
       "      <td>False</td>\n",
       "      <td>False</td>\n",
       "      <td>False</td>\n",
       "      <td>False</td>\n",
       "      <td>False</td>\n",
       "      <td>False</td>\n",
       "      <td>False</td>\n",
       "      <td>False</td>\n",
       "      <td>False</td>\n",
       "      <td>False</td>\n",
       "    </tr>\n",
       "    <tr>\n",
       "      <td>4</td>\n",
       "      <td>False</td>\n",
       "      <td>False</td>\n",
       "      <td>False</td>\n",
       "      <td>False</td>\n",
       "      <td>False</td>\n",
       "      <td>False</td>\n",
       "      <td>False</td>\n",
       "      <td>False</td>\n",
       "      <td>False</td>\n",
       "      <td>False</td>\n",
       "    </tr>\n",
       "    <tr>\n",
       "      <td>5</td>\n",
       "      <td>False</td>\n",
       "      <td>False</td>\n",
       "      <td>False</td>\n",
       "      <td>False</td>\n",
       "      <td>False</td>\n",
       "      <td>False</td>\n",
       "      <td>False</td>\n",
       "      <td>False</td>\n",
       "      <td>False</td>\n",
       "      <td>False</td>\n",
       "    </tr>\n",
       "  </tbody>\n",
       "</table>\n",
       "</div>"
      ],
      "text/plain": [
       "           refractive index  Sodium  Magnesium  Aluminum  Silicon  Potassium  \\\n",
       "Id number                                                                      \n",
       "1                     False   False      False     False    False      False   \n",
       "2                     False   False      False     False    False      False   \n",
       "3                     False   False      False     False    False      False   \n",
       "4                     False   False      False     False    False      False   \n",
       "5                     False   False      False     False    False      False   \n",
       "\n",
       "           Calcium  Barium   Iron  Type of glass  \n",
       "Id number                                         \n",
       "1            False   False  False          False  \n",
       "2            False   False  False          False  \n",
       "3            False   False  False          False  \n",
       "4            False   False  False          False  \n",
       "5            False   False  False          False  "
      ]
     },
     "execution_count": 7,
     "metadata": {},
     "output_type": "execute_result"
    }
   ],
   "source": [
    "missing_data = df.isnull()\n",
    "missing_data.head()"
   ]
  },
  {
   "cell_type": "code",
   "execution_count": 8,
   "metadata": {
    "colab": {
     "base_uri": "https://localhost:8080/",
     "height": 210
    },
    "colab_type": "code",
    "id": "vFaAzTlxZVZI",
    "outputId": "22ee6c54-d94d-4679-bf4c-3e8376787575"
   },
   "outputs": [
    {
     "data": {
      "text/plain": [
       "refractive index    1\n",
       "Sodium              1\n",
       "Magnesium           1\n",
       "Aluminum            1\n",
       "Silicon             1\n",
       "Potassium           1\n",
       "Calcium             1\n",
       "Barium              1\n",
       "Iron                1\n",
       "Type of glass       1\n",
       "dtype: int64"
      ]
     },
     "execution_count": 8,
     "metadata": {},
     "output_type": "execute_result"
    }
   ],
   "source": [
    "missing_data.nunique()"
   ]
  },
  {
   "cell_type": "markdown",
   "metadata": {
    "colab_type": "text",
    "id": "Ob60ul8-r9p5"
   },
   "source": [
    "## c) Preliminary Inspection of the dataset"
   ]
  },
  {
   "cell_type": "code",
   "execution_count": 9,
   "metadata": {
    "colab": {
     "base_uri": "https://localhost:8080/",
     "height": 284
    },
    "colab_type": "code",
    "id": "Q03t7wxEsY8S",
    "outputId": "adba383a-7040-437f-bb69-a8de028495f3"
   },
   "outputs": [
    {
     "data": {
      "text/html": [
       "<div>\n",
       "<style scoped>\n",
       "    .dataframe tbody tr th:only-of-type {\n",
       "        vertical-align: middle;\n",
       "    }\n",
       "\n",
       "    .dataframe tbody tr th {\n",
       "        vertical-align: top;\n",
       "    }\n",
       "\n",
       "    .dataframe thead th {\n",
       "        text-align: right;\n",
       "    }\n",
       "</style>\n",
       "<table border=\"1\" class=\"dataframe\">\n",
       "  <thead>\n",
       "    <tr style=\"text-align: right;\">\n",
       "      <th></th>\n",
       "      <th>refractive index</th>\n",
       "      <th>Sodium</th>\n",
       "      <th>Magnesium</th>\n",
       "      <th>Aluminum</th>\n",
       "      <th>Silicon</th>\n",
       "      <th>Potassium</th>\n",
       "      <th>Calcium</th>\n",
       "      <th>Barium</th>\n",
       "      <th>Iron</th>\n",
       "      <th>Type of glass</th>\n",
       "    </tr>\n",
       "  </thead>\n",
       "  <tbody>\n",
       "    <tr>\n",
       "      <td>count</td>\n",
       "      <td>214.000000</td>\n",
       "      <td>214.000000</td>\n",
       "      <td>214.000000</td>\n",
       "      <td>214.000000</td>\n",
       "      <td>214.000000</td>\n",
       "      <td>214.000000</td>\n",
       "      <td>214.000000</td>\n",
       "      <td>214.000000</td>\n",
       "      <td>214.000000</td>\n",
       "      <td>214.000000</td>\n",
       "    </tr>\n",
       "    <tr>\n",
       "      <td>mean</td>\n",
       "      <td>1.518365</td>\n",
       "      <td>13.407850</td>\n",
       "      <td>2.684533</td>\n",
       "      <td>1.444907</td>\n",
       "      <td>72.650935</td>\n",
       "      <td>0.497056</td>\n",
       "      <td>8.956963</td>\n",
       "      <td>0.175047</td>\n",
       "      <td>0.057009</td>\n",
       "      <td>2.780374</td>\n",
       "    </tr>\n",
       "    <tr>\n",
       "      <td>std</td>\n",
       "      <td>0.003037</td>\n",
       "      <td>0.816604</td>\n",
       "      <td>1.442408</td>\n",
       "      <td>0.499270</td>\n",
       "      <td>0.774546</td>\n",
       "      <td>0.652192</td>\n",
       "      <td>1.423153</td>\n",
       "      <td>0.497219</td>\n",
       "      <td>0.097439</td>\n",
       "      <td>2.103739</td>\n",
       "    </tr>\n",
       "    <tr>\n",
       "      <td>min</td>\n",
       "      <td>1.511150</td>\n",
       "      <td>10.730000</td>\n",
       "      <td>0.000000</td>\n",
       "      <td>0.290000</td>\n",
       "      <td>69.810000</td>\n",
       "      <td>0.000000</td>\n",
       "      <td>5.430000</td>\n",
       "      <td>0.000000</td>\n",
       "      <td>0.000000</td>\n",
       "      <td>1.000000</td>\n",
       "    </tr>\n",
       "    <tr>\n",
       "      <td>25%</td>\n",
       "      <td>1.516523</td>\n",
       "      <td>12.907500</td>\n",
       "      <td>2.115000</td>\n",
       "      <td>1.190000</td>\n",
       "      <td>72.280000</td>\n",
       "      <td>0.122500</td>\n",
       "      <td>8.240000</td>\n",
       "      <td>0.000000</td>\n",
       "      <td>0.000000</td>\n",
       "      <td>1.000000</td>\n",
       "    </tr>\n",
       "    <tr>\n",
       "      <td>50%</td>\n",
       "      <td>1.517680</td>\n",
       "      <td>13.300000</td>\n",
       "      <td>3.480000</td>\n",
       "      <td>1.360000</td>\n",
       "      <td>72.790000</td>\n",
       "      <td>0.555000</td>\n",
       "      <td>8.600000</td>\n",
       "      <td>0.000000</td>\n",
       "      <td>0.000000</td>\n",
       "      <td>2.000000</td>\n",
       "    </tr>\n",
       "    <tr>\n",
       "      <td>75%</td>\n",
       "      <td>1.519157</td>\n",
       "      <td>13.825000</td>\n",
       "      <td>3.600000</td>\n",
       "      <td>1.630000</td>\n",
       "      <td>73.087500</td>\n",
       "      <td>0.610000</td>\n",
       "      <td>9.172500</td>\n",
       "      <td>0.000000</td>\n",
       "      <td>0.100000</td>\n",
       "      <td>3.000000</td>\n",
       "    </tr>\n",
       "    <tr>\n",
       "      <td>max</td>\n",
       "      <td>1.533930</td>\n",
       "      <td>17.380000</td>\n",
       "      <td>4.490000</td>\n",
       "      <td>3.500000</td>\n",
       "      <td>75.410000</td>\n",
       "      <td>6.210000</td>\n",
       "      <td>16.190000</td>\n",
       "      <td>3.150000</td>\n",
       "      <td>0.510000</td>\n",
       "      <td>7.000000</td>\n",
       "    </tr>\n",
       "  </tbody>\n",
       "</table>\n",
       "</div>"
      ],
      "text/plain": [
       "       refractive index      Sodium   Magnesium    Aluminum     Silicon  \\\n",
       "count        214.000000  214.000000  214.000000  214.000000  214.000000   \n",
       "mean           1.518365   13.407850    2.684533    1.444907   72.650935   \n",
       "std            0.003037    0.816604    1.442408    0.499270    0.774546   \n",
       "min            1.511150   10.730000    0.000000    0.290000   69.810000   \n",
       "25%            1.516523   12.907500    2.115000    1.190000   72.280000   \n",
       "50%            1.517680   13.300000    3.480000    1.360000   72.790000   \n",
       "75%            1.519157   13.825000    3.600000    1.630000   73.087500   \n",
       "max            1.533930   17.380000    4.490000    3.500000   75.410000   \n",
       "\n",
       "        Potassium     Calcium      Barium        Iron  Type of glass  \n",
       "count  214.000000  214.000000  214.000000  214.000000     214.000000  \n",
       "mean     0.497056    8.956963    0.175047    0.057009       2.780374  \n",
       "std      0.652192    1.423153    0.497219    0.097439       2.103739  \n",
       "min      0.000000    5.430000    0.000000    0.000000       1.000000  \n",
       "25%      0.122500    8.240000    0.000000    0.000000       1.000000  \n",
       "50%      0.555000    8.600000    0.000000    0.000000       2.000000  \n",
       "75%      0.610000    9.172500    0.000000    0.100000       3.000000  \n",
       "max      6.210000   16.190000    3.150000    0.510000       7.000000  "
      ]
     },
     "execution_count": 9,
     "metadata": {},
     "output_type": "execute_result"
    }
   ],
   "source": [
    "# First, we check the numerical columns\n",
    "df.describe()"
   ]
  },
  {
   "cell_type": "markdown",
   "metadata": {
    "colab_type": "text",
    "id": "AvzLKin3pcVB"
   },
   "source": [
    "## d) Clarifying the target and Predictors' columns\n",
    "#### This is how we create dataframes for predictors and the target column. At the end we check the dimension of these dataframes"
   ]
  },
  {
   "cell_type": "code",
   "execution_count": 10,
   "metadata": {
    "colab": {
     "base_uri": "https://localhost:8080/",
     "height": 175
    },
    "colab_type": "code",
    "id": "LgIrn1qjpcVC",
    "outputId": "2c5af83a-63d2-4959-8ce2-88bf6666ad16"
   },
   "outputs": [
    {
     "data": {
      "text/plain": [
       "['Magnesium',\n",
       " 'Silicon',\n",
       " 'Aluminum',\n",
       " 'Calcium',\n",
       " 'Potassium',\n",
       " 'Barium',\n",
       " 'Iron',\n",
       " 'refractive index',\n",
       " 'Sodium']"
      ]
     },
     "execution_count": 10,
     "metadata": {},
     "output_type": "execute_result"
    }
   ],
   "source": [
    "target_column = 'Type of glass'\n",
    "predictors = list(set(list(df.columns))-set([target_column]))\n",
    "x = df[predictors].values\n",
    "y = df[target_column].values\n",
    "\n",
    "predictors"
   ]
  },
  {
   "cell_type": "code",
   "execution_count": 11,
   "metadata": {
    "colab": {
     "base_uri": "https://localhost:8080/",
     "height": 34
    },
    "colab_type": "code",
    "id": "sMPnAt-FhGdo",
    "outputId": "a25a1d51-f7b6-4579-c16c-a0ac52c5ae1f"
   },
   "outputs": [
    {
     "data": {
      "text/plain": [
       "[((214, 9), (214,))]"
      ]
     },
     "execution_count": 11,
     "metadata": {},
     "output_type": "execute_result"
    }
   ],
   "source": [
    "[(x.shape, y.shape)]"
   ]
  },
  {
   "cell_type": "code",
   "execution_count": 12,
   "metadata": {
    "colab": {
     "base_uri": "https://localhost:8080/",
     "height": 193
    },
    "colab_type": "code",
    "id": "wK06b4ZrdqG6",
    "outputId": "26bf1b67-9bed-440c-ffbf-3e7ddb327341"
   },
   "outputs": [
    {
     "data": {
      "text/plain": [
       "array([[4.49000e+00, 7.17800e+01, 1.10000e+00, 8.75000e+00, 6.00000e-02,\n",
       "        0.00000e+00, 0.00000e+00, 1.52101e+00, 1.36400e+01],\n",
       "       [3.60000e+00, 7.27300e+01, 1.36000e+00, 7.83000e+00, 4.80000e-01,\n",
       "        0.00000e+00, 0.00000e+00, 1.51761e+00, 1.38900e+01],\n",
       "       [3.55000e+00, 7.29900e+01, 1.54000e+00, 7.78000e+00, 3.90000e-01,\n",
       "        0.00000e+00, 0.00000e+00, 1.51618e+00, 1.35300e+01],\n",
       "       [3.69000e+00, 7.26100e+01, 1.29000e+00, 8.22000e+00, 5.70000e-01,\n",
       "        0.00000e+00, 0.00000e+00, 1.51766e+00, 1.32100e+01],\n",
       "       [3.62000e+00, 7.30800e+01, 1.24000e+00, 8.07000e+00, 5.50000e-01,\n",
       "        0.00000e+00, 0.00000e+00, 1.51742e+00, 1.32700e+01]])"
      ]
     },
     "execution_count": 12,
     "metadata": {},
     "output_type": "execute_result"
    }
   ],
   "source": [
    "x[0:5,:]"
   ]
  },
  {
   "cell_type": "code",
   "execution_count": 13,
   "metadata": {
    "colab": {
     "base_uri": "https://localhost:8080/",
     "height": 34
    },
    "colab_type": "code",
    "id": "S80mKtTEgws5",
    "outputId": "ca12db23-e759-4870-9669-c31e2e19ac55"
   },
   "outputs": [
    {
     "data": {
      "text/plain": [
       "array([1, 1, 1, 1, 1], dtype=int64)"
      ]
     },
     "execution_count": 13,
     "metadata": {},
     "output_type": "execute_result"
    }
   ],
   "source": [
    "y[0:5]"
   ]
  },
  {
   "cell_type": "markdown",
   "metadata": {
    "colab_type": "text",
    "id": "l2degazVbE6T"
   },
   "source": [
    "### Also, we need to set target column to start with zero"
   ]
  },
  {
   "cell_type": "code",
   "execution_count": 14,
   "metadata": {
    "colab": {
     "base_uri": "https://localhost:8080/",
     "height": 140
    },
    "colab_type": "code",
    "id": "NjB0Cw2AbnuT",
    "outputId": "54737300-0396-47aa-b110-e2d388fd4e78"
   },
   "outputs": [
    {
     "data": {
      "text/plain": [
       "2    76\n",
       "1    70\n",
       "7    29\n",
       "3    17\n",
       "5    13\n",
       "6     9\n",
       "Name: Type of glass, dtype: int64"
      ]
     },
     "execution_count": 14,
     "metadata": {},
     "output_type": "execute_result"
    }
   ],
   "source": [
    "df[target_column].value_counts()"
   ]
  },
  {
   "cell_type": "code",
   "execution_count": 15,
   "metadata": {
    "colab": {
     "base_uri": "https://localhost:8080/",
     "height": 140
    },
    "colab_type": "code",
    "id": "M5UNyZ3FcpjM",
    "outputId": "3365731e-b93b-47e4-b98a-7d6ba724590a"
   },
   "outputs": [
    {
     "data": {
      "text/plain": [
       "1    76\n",
       "0    70\n",
       "6    29\n",
       "2    17\n",
       "4    13\n",
       "5     9\n",
       "Name: Type of glass, dtype: int64"
      ]
     },
     "execution_count": 15,
     "metadata": {},
     "output_type": "execute_result"
    }
   ],
   "source": [
    "objects_to_integers = {1: 0, 2: 1, 3: 2, 4: 3, 5: 4, 6: 5, 7: 6}\n",
    "df[target_column].replace(objects_to_integers, inplace = True)\n",
    "df[target_column].value_counts()"
   ]
  },
  {
   "cell_type": "markdown",
   "metadata": {
    "colab_type": "text",
    "id": "ChnNXb0fpcVG"
   },
   "source": [
    "## e) Normalizing the predictors\n",
    "#### This removes the effect of units for different attributes."
   ]
  },
  {
   "cell_type": "code",
   "execution_count": 16,
   "metadata": {
    "colab": {
     "base_uri": "https://localhost:8080/",
     "height": 284
    },
    "colab_type": "code",
    "id": "jYq-pfShpcVI",
    "outputId": "f0f0261c-0d89-4315-d891-5c6c79253763"
   },
   "outputs": [
    {
     "data": {
      "text/html": [
       "<div>\n",
       "<style scoped>\n",
       "    .dataframe tbody tr th:only-of-type {\n",
       "        vertical-align: middle;\n",
       "    }\n",
       "\n",
       "    .dataframe tbody tr th {\n",
       "        vertical-align: top;\n",
       "    }\n",
       "\n",
       "    .dataframe thead th {\n",
       "        text-align: right;\n",
       "    }\n",
       "</style>\n",
       "<table border=\"1\" class=\"dataframe\">\n",
       "  <thead>\n",
       "    <tr style=\"text-align: right;\">\n",
       "      <th></th>\n",
       "      <th>refractive index</th>\n",
       "      <th>Sodium</th>\n",
       "      <th>Magnesium</th>\n",
       "      <th>Aluminum</th>\n",
       "      <th>Silicon</th>\n",
       "      <th>Potassium</th>\n",
       "      <th>Calcium</th>\n",
       "      <th>Barium</th>\n",
       "      <th>Iron</th>\n",
       "      <th>Type of glass</th>\n",
       "    </tr>\n",
       "  </thead>\n",
       "  <tbody>\n",
       "    <tr>\n",
       "      <td>count</td>\n",
       "      <td>214.000000</td>\n",
       "      <td>214.000000</td>\n",
       "      <td>214.000000</td>\n",
       "      <td>214.000000</td>\n",
       "      <td>214.000000</td>\n",
       "      <td>214.000000</td>\n",
       "      <td>214.000000</td>\n",
       "      <td>214.000000</td>\n",
       "      <td>214.000000</td>\n",
       "      <td>214.000000</td>\n",
       "    </tr>\n",
       "    <tr>\n",
       "      <td>mean</td>\n",
       "      <td>0.989853</td>\n",
       "      <td>0.771453</td>\n",
       "      <td>0.597891</td>\n",
       "      <td>0.412830</td>\n",
       "      <td>0.963412</td>\n",
       "      <td>0.080041</td>\n",
       "      <td>0.553240</td>\n",
       "      <td>0.055570</td>\n",
       "      <td>0.111783</td>\n",
       "      <td>1.780374</td>\n",
       "    </tr>\n",
       "    <tr>\n",
       "      <td>std</td>\n",
       "      <td>0.001980</td>\n",
       "      <td>0.046985</td>\n",
       "      <td>0.321249</td>\n",
       "      <td>0.142648</td>\n",
       "      <td>0.010271</td>\n",
       "      <td>0.105023</td>\n",
       "      <td>0.087903</td>\n",
       "      <td>0.157847</td>\n",
       "      <td>0.191056</td>\n",
       "      <td>2.103739</td>\n",
       "    </tr>\n",
       "    <tr>\n",
       "      <td>min</td>\n",
       "      <td>0.985149</td>\n",
       "      <td>0.617376</td>\n",
       "      <td>0.000000</td>\n",
       "      <td>0.082857</td>\n",
       "      <td>0.925739</td>\n",
       "      <td>0.000000</td>\n",
       "      <td>0.335392</td>\n",
       "      <td>0.000000</td>\n",
       "      <td>0.000000</td>\n",
       "      <td>0.000000</td>\n",
       "    </tr>\n",
       "    <tr>\n",
       "      <td>25%</td>\n",
       "      <td>0.988652</td>\n",
       "      <td>0.742664</td>\n",
       "      <td>0.471047</td>\n",
       "      <td>0.340000</td>\n",
       "      <td>0.958494</td>\n",
       "      <td>0.019726</td>\n",
       "      <td>0.508956</td>\n",
       "      <td>0.000000</td>\n",
       "      <td>0.000000</td>\n",
       "      <td>0.000000</td>\n",
       "    </tr>\n",
       "    <tr>\n",
       "      <td>50%</td>\n",
       "      <td>0.989406</td>\n",
       "      <td>0.765247</td>\n",
       "      <td>0.775056</td>\n",
       "      <td>0.388571</td>\n",
       "      <td>0.965257</td>\n",
       "      <td>0.089372</td>\n",
       "      <td>0.531192</td>\n",
       "      <td>0.000000</td>\n",
       "      <td>0.000000</td>\n",
       "      <td>1.000000</td>\n",
       "    </tr>\n",
       "    <tr>\n",
       "      <td>75%</td>\n",
       "      <td>0.990370</td>\n",
       "      <td>0.795455</td>\n",
       "      <td>0.801782</td>\n",
       "      <td>0.465714</td>\n",
       "      <td>0.969202</td>\n",
       "      <td>0.098229</td>\n",
       "      <td>0.566553</td>\n",
       "      <td>0.000000</td>\n",
       "      <td>0.196078</td>\n",
       "      <td>2.000000</td>\n",
       "    </tr>\n",
       "    <tr>\n",
       "      <td>max</td>\n",
       "      <td>1.000000</td>\n",
       "      <td>1.000000</td>\n",
       "      <td>1.000000</td>\n",
       "      <td>1.000000</td>\n",
       "      <td>1.000000</td>\n",
       "      <td>1.000000</td>\n",
       "      <td>1.000000</td>\n",
       "      <td>1.000000</td>\n",
       "      <td>1.000000</td>\n",
       "      <td>6.000000</td>\n",
       "    </tr>\n",
       "  </tbody>\n",
       "</table>\n",
       "</div>"
      ],
      "text/plain": [
       "       refractive index      Sodium   Magnesium    Aluminum     Silicon  \\\n",
       "count        214.000000  214.000000  214.000000  214.000000  214.000000   \n",
       "mean           0.989853    0.771453    0.597891    0.412830    0.963412   \n",
       "std            0.001980    0.046985    0.321249    0.142648    0.010271   \n",
       "min            0.985149    0.617376    0.000000    0.082857    0.925739   \n",
       "25%            0.988652    0.742664    0.471047    0.340000    0.958494   \n",
       "50%            0.989406    0.765247    0.775056    0.388571    0.965257   \n",
       "75%            0.990370    0.795455    0.801782    0.465714    0.969202   \n",
       "max            1.000000    1.000000    1.000000    1.000000    1.000000   \n",
       "\n",
       "        Potassium     Calcium      Barium        Iron  Type of glass  \n",
       "count  214.000000  214.000000  214.000000  214.000000     214.000000  \n",
       "mean     0.080041    0.553240    0.055570    0.111783       1.780374  \n",
       "std      0.105023    0.087903    0.157847    0.191056       2.103739  \n",
       "min      0.000000    0.335392    0.000000    0.000000       0.000000  \n",
       "25%      0.019726    0.508956    0.000000    0.000000       0.000000  \n",
       "50%      0.089372    0.531192    0.000000    0.000000       1.000000  \n",
       "75%      0.098229    0.566553    0.000000    0.196078       2.000000  \n",
       "max      1.000000    1.000000    1.000000    1.000000       6.000000  "
      ]
     },
     "execution_count": 16,
     "metadata": {},
     "output_type": "execute_result"
    }
   ],
   "source": [
    "df[predictors]=df[predictors]/df[predictors].max()\n",
    "df.describe()"
   ]
  },
  {
   "cell_type": "markdown",
   "metadata": {
    "colab_type": "text",
    "id": "ic5ER7yk3LgB"
   },
   "source": [
    "#### As you can see, every attribute has the minimum of zero and the maximum of 1."
   ]
  },
  {
   "cell_type": "markdown",
   "metadata": {
    "colab_type": "text",
    "id": "a2O2O2xlpcVN"
   },
   "source": [
    "## f) Sampling training and test sets from the dataframe\n",
    "#### Here, we are holding a portion of dataset to test the prediction capabilities of model later."
   ]
  },
  {
   "cell_type": "code",
   "execution_count": 17,
   "metadata": {
    "colab": {
     "base_uri": "https://localhost:8080/",
     "height": 34
    },
    "colab_type": "code",
    "id": "xVyO_7ynpcVO",
    "outputId": "a4f050ae-6e8c-4111-f3c7-ceb0840c4e38"
   },
   "outputs": [
    {
     "data": {
      "text/plain": [
       "[(128, 9), (86, 9), (128,), (86,)]"
      ]
     },
     "execution_count": 17,
     "metadata": {},
     "output_type": "execute_result"
    }
   ],
   "source": [
    "x_train, x_test, y_train, y_test = train_test_split(x, y, test_size = 0.4)\n",
    "[x_train.shape , x_test.shape , y_train.shape , y_test.shape]\n"
   ]
  },
  {
   "cell_type": "markdown",
   "metadata": {
    "colab_type": "text",
    "id": "AMsmuvMWpcVR"
   },
   "source": [
    "## g) Encode the target variable to binary\n",
    "#### We are transforming the traget column to binary values. The reason for this transformation is that the loss function that we use later (categorical_crossentropy) only works with binary values."
   ]
  },
  {
   "cell_type": "code",
   "execution_count": 18,
   "metadata": {
    "colab": {
     "base_uri": "https://localhost:8080/",
     "height": 34
    },
    "colab_type": "code",
    "id": "TbRQaUi0pcVT",
    "outputId": "615a5dc1-9bb0-4672-d29a-a9a6d9701aba"
   },
   "outputs": [
    {
     "data": {
      "text/plain": [
       "((128, 7), (86, 7))"
      ]
     },
     "execution_count": 18,
     "metadata": {},
     "output_type": "execute_result"
    }
   ],
   "source": [
    "y_train = to_categorical(y_train)\n",
    "y_test = to_categorical(y_test)\n",
    "(y_train.shape, y_test.shape) "
   ]
  },
  {
   "cell_type": "markdown",
   "metadata": {
    "colab_type": "text",
    "id": "BaaAnKjVpcVW"
   },
   "source": [
    "## h)Defining the Deep Learning model\n"
   ]
  },
  {
   "cell_type": "code",
   "execution_count": 19,
   "metadata": {
    "colab": {
     "base_uri": "https://localhost:8080/",
     "height": 34
    },
    "colab_type": "code",
    "id": "lQF2DEFVpcVY",
    "outputId": "6034eea9-4513-4c51-c4ec-0fa35b330bd0"
   },
   "outputs": [
    {
     "data": {
      "text/plain": [
       "<tensorflow.python.keras.engine.sequential.Sequential at 0x1464b928a08>"
      ]
     },
     "execution_count": 19,
     "metadata": {},
     "output_type": "execute_result"
    }
   ],
   "source": [
    "model = Sequential()\n",
    "model.add(Dense(500, activation='relu', input_dim = 9))\n",
    "model.add(Dropout(0.2))\n",
    "model.add(Dense(7, activation='softmax'))\n",
    "model"
   ]
  },
  {
   "cell_type": "markdown",
   "metadata": {
    "colab_type": "text",
    "id": "gbz_rR0FpcVc"
   },
   "source": [
    "## i) Compiling the model\n",
    "#### We clarify the parameters of the model, such as optimizer, loss function etc."
   ]
  },
  {
   "cell_type": "code",
   "execution_count": 20,
   "metadata": {
    "colab": {},
    "colab_type": "code",
    "id": "YKCQGiUgpcVd"
   },
   "outputs": [],
   "source": [
    "model.compile(optimizer = Adam(lr=0.01), loss = 'categorical_crossentropy', metrics=['accuracy'])"
   ]
  },
  {
   "cell_type": "code",
   "execution_count": 21,
   "metadata": {
    "colab": {
     "base_uri": "https://localhost:8080/",
     "height": 34
    },
    "colab_type": "code",
    "id": "z7NYjjWQJC52",
    "outputId": "13d22744-bb39-48ce-af10-0d9400248da2"
   },
   "outputs": [
    {
     "data": {
      "text/plain": [
       "['loss', 'accuracy']"
      ]
     },
     "execution_count": 21,
     "metadata": {},
     "output_type": "execute_result"
    }
   ],
   "source": [
    "model.metrics_names"
   ]
  },
  {
   "cell_type": "markdown",
   "metadata": {
    "colab_type": "text",
    "id": "otibyZ37pcVh"
   },
   "source": [
    "## j) Train the model\n",
    "#### We train the model on the training set. In this step, we optimize the weights betweeen layers."
   ]
  },
  {
   "cell_type": "code",
   "execution_count": 22,
   "metadata": {
    "colab": {
     "base_uri": "https://localhost:8080/",
     "height": 738
    },
    "colab_type": "code",
    "id": "tWFzCCMLpcVi",
    "outputId": "63123567-9db7-4be6-b70a-23e566bf3b3a"
   },
   "outputs": [
    {
     "name": "stdout",
     "output_type": "stream",
     "text": [
      "Train on 128 samples\n",
      "Epoch 1/20\n",
      "128/128 [==============================] - 1s 9ms/sample - loss: 11.2068 - accuracy: 0.1484\n",
      "Epoch 2/20\n",
      "128/128 [==============================] - 0s 137us/sample - loss: 11.5335 - accuracy: 0.3438\n",
      "Epoch 3/20\n",
      "128/128 [==============================] - 0s 150us/sample - loss: 9.7192 - accuracy: 0.2969\n",
      "Epoch 4/20\n",
      "128/128 [==============================] - 0s 139us/sample - loss: 6.7572 - accuracy: 0.3203\n",
      "Epoch 5/20\n",
      "128/128 [==============================] - 0s 110us/sample - loss: 4.5665 - accuracy: 0.3906\n",
      "Epoch 6/20\n",
      "128/128 [==============================] - 0s 131us/sample - loss: 3.1382 - accuracy: 0.3438\n",
      "Epoch 7/20\n",
      "128/128 [==============================] - 0s 154us/sample - loss: 2.5287 - accuracy: 0.1562\n",
      "Epoch 8/20\n",
      "128/128 [==============================] - 0s 159us/sample - loss: 1.9070 - accuracy: 0.3984\n",
      "Epoch 9/20\n",
      "128/128 [==============================] - 0s 132us/sample - loss: 2.0287 - accuracy: 0.3281\n",
      "Epoch 10/20\n",
      "128/128 [==============================] - 0s 123us/sample - loss: 1.6814 - accuracy: 0.4453\n",
      "Epoch 11/20\n",
      "128/128 [==============================] - 0s 101us/sample - loss: 1.3368 - accuracy: 0.4609\n",
      "Epoch 12/20\n",
      "128/128 [==============================] - 0s 129us/sample - loss: 1.3840 - accuracy: 0.4219\n",
      "Epoch 13/20\n",
      "128/128 [==============================] - 0s 115us/sample - loss: 1.1384 - accuracy: 0.5000\n",
      "Epoch 14/20\n",
      "128/128 [==============================] - 0s 108us/sample - loss: 1.1134 - accuracy: 0.5391\n",
      "Epoch 15/20\n",
      "128/128 [==============================] - 0s 144us/sample - loss: 1.1634 - accuracy: 0.5078\n",
      "Epoch 16/20\n",
      "128/128 [==============================] - 0s 142us/sample - loss: 1.1490 - accuracy: 0.5391\n",
      "Epoch 17/20\n",
      "128/128 [==============================] - 0s 155us/sample - loss: 1.1146 - accuracy: 0.5391\n",
      "Epoch 18/20\n",
      "128/128 [==============================] - 0s 156us/sample - loss: 1.0683 - accuracy: 0.5469\n",
      "Epoch 19/20\n",
      "128/128 [==============================] - 0s 134us/sample - loss: 1.0788 - accuracy: 0.5078\n",
      "Epoch 20/20\n",
      "128/128 [==============================] - 0s 153us/sample - loss: 1.1108 - accuracy: 0.5000\n"
     ]
    }
   ],
   "source": [
    "history = model.fit(x_train, y_train, epochs=20)"
   ]
  },
  {
   "cell_type": "markdown",
   "metadata": {
    "colab_type": "text",
    "id": "j6S73MpcF1Iw"
   },
   "source": [
    "#### Since the number of epochs was set to 20, the model is optimized over trainig set 20 times. We can check the training in the following plot"
   ]
  },
  {
   "cell_type": "code",
   "execution_count": 27,
   "metadata": {
    "colab": {
     "base_uri": "https://localhost:8080/",
     "height": 295
    },
    "colab_type": "code",
    "id": "PCo-FpmZJvq9",
    "outputId": "05141726-e3d1-4702-8ddc-396aa8b4a974"
   },
   "outputs": [
    {
     "data": {
      "image/png": "[encoded data removed]",
      "text/plain": [
       "<Figure size 432x288 with 1 Axes>"
      ]
     },
     "metadata": {
      "needs_background": "light"
     },
     "output_type": "display_data"
    }
   ],
   "source": [
    "plt.plot(history.history['accuracy'])\n",
    "plt.title('accuracy change with higher number of epochs')\n",
    "plt.ylabel('accuracy')\n",
    "plt.xlabel('epoch')\n",
    "plt.legend(['training set'], loc='upper left')\n",
    "plt.show()"
   ]
  },
  {
   "cell_type": "markdown",
   "metadata": {
    "colab_type": "text",
    "id": "R9zWK1g6pcVm"
   },
   "source": [
    "## k) Accuracy of the model on the test set\n",
    "#### Now, it is the time to check the prediction capability of our optimized model(weights) on the test set which we held back. In this step, the model or specifically the weights does not change. We report the accuracy of the model on the test set."
   ]
  },
  {
   "cell_type": "code",
   "execution_count": 28,
   "metadata": {
    "colab": {
     "base_uri": "https://localhost:8080/",
     "height": 34
    },
    "colab_type": "code",
    "id": "w8-mos70pcVo",
    "outputId": "3397b1b9-d677-4a92-d67c-52d1166404f2"
   },
   "outputs": [
    {
     "name": "stdout",
     "output_type": "stream",
     "text": [
      "Accuracy on the test set is:  0.54651165\n"
     ]
    }
   ],
   "source": [
    "scores = model.evaluate(x_test, y_test, verbose=0)\n",
    "print('Accuracy on the test set is: ', scores[1])"
   ]
  },
  {
   "cell_type": "code",
   "execution_count": null,
   "metadata": {},
   "outputs": [],
   "source": []
  }
 ],
 "metadata": {
  "colab": {
   "collapsed_sections": [],
   "name": "Glass_tets.ipynb",
   "provenance": []
  },
  "kernelspec": {
   "display_name": "Python 3",
   "language": "python",
   "name": "python3"
  },
  "language_info": {
   "codemirror_mode": {
    "name": "ipython",
    "version": 3
   },
   "file_extension": ".py",
   "mimetype": "text/x-python",
   "name": "python",
   "nbconvert_exporter": "python",
   "pygments_lexer": "ipython3",
   "version": "3.7.6"
  }
 },
 "nbformat": 4,
 "nbformat_minor": 1
}
